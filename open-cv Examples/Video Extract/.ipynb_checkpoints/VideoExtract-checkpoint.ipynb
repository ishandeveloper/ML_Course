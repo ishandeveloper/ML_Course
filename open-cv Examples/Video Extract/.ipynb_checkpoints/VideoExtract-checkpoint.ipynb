{
 "cells": [
  {
   "cell_type": "code",
   "execution_count": 18,
   "metadata": {},
   "outputs": [
    {
     "name": "stdout",
     "output_type": "stream",
     "text": [
      "Creating\n",
      "Done\n"
     ]
    }
   ],
   "source": [
    "import cv2\n",
    "\n",
    "cap= cv2.VideoCapture('C://users//ishan//Downloads//Video//OnePlus 7 Pro - OnePlus (India).mp4')\n",
    "i=0\n",
    "\n",
    "if os.path.exists('data')==0: \n",
    "    os.makedirs('data') \n",
    "        \n",
    "print('Creating')\n",
    "\n",
    "while(cap.isOpened()):\n",
    "    ret, frame = cap.read()\n",
    "    if ret == False:\n",
    "        break\n",
    "    cv2.imwrite('./data/frame'+str(i)+'.jpg',frame)\n",
    "    i+=1\n",
    "print('Done')\n",
    "cap.release()\n",
    "cv2.destroyAllWindows()"
   ]
  }
 ],
 "metadata": {
  "kernelspec": {
   "display_name": "Python 3",
   "language": "python",
   "name": "python3"
  },
  "language_info": {
   "codemirror_mode": {
    "name": "ipython",
    "version": 3
   },
   "file_extension": ".py",
   "mimetype": "text/x-python",
   "name": "python",
   "nbconvert_exporter": "python",
   "pygments_lexer": "ipython3",
   "version": "3.7.4"
  }
 },
 "nbformat": 4,
 "nbformat_minor": 2
}
