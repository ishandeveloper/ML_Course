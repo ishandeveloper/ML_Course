{
 "cells": [
  {
   "cell_type": "code",
   "execution_count": 13,
   "metadata": {},
   "outputs": [
    {
     "name": "stdout",
     "output_type": "stream",
     "text": [
      "Koi Number Likh : 10\n",
      "Ek Aur Number Likh : 5\n",
      "Aakhiri baar Number Likh De : 8\n",
      "10 sabse bada hai\n"
     ]
    }
   ],
   "source": [
    "a=int(input(\"Enter A Number : \"))\n",
    "b=int(input(\"Enter Another Number : \"))\n",
    "c=int(input(\"Enter One More Number : \"))\n",
    "if (a>b and a>c):\n",
    "    print(f\"{a} is greatest\")\n",
    "elif (b>c and b>a):\n",
    "    print(f\"{b} is greatest\")\n",
    "else:\n",
    "    print(f\"{c} is greatest\")"
   ]
  },
  {
   "cell_type": "code",
   "execution_count": 14,
   "metadata": {},
   "outputs": [
    {
     "name": "stdout",
     "output_type": "stream",
     "text": [
      "Koi Number Likh : 10\n",
      "Ek Aur Number Likh : 5\n",
      "Aakhiri baar Number Likh De : 8\n",
      "10 sabse bada hai\n"
     ]
    }
   ],
   "source": [
    "a=int(input(\"Enter A Number : \"))\n",
    "b=int(input(\"Enter Another Number : \"))\n",
    "c=int(input(\"Enter One More Number : \"))\n",
    "if (a>b):\n",
    "    if(a>c):\n",
    "        print(f\"{a} is greatest\")\n",
    "elif (b>c):\n",
    "    if(b<a):\n",
    "        print(f\"{b} is greatest\")\n",
    "else:\n",
    "    print(f\"{c} is greatest\")"
   ]
  }
 ],
 "metadata": {
  "kernelspec": {
   "display_name": "Python 3",
   "language": "python",
   "name": "python3"
  },
  "language_info": {
   "codemirror_mode": {
    "name": "ipython",
    "version": 3
   },
   "file_extension": ".py",
   "mimetype": "text/x-python",
   "name": "python",
   "nbconvert_exporter": "python",
   "pygments_lexer": "ipython3",
   "version": "3.7.4"
  }
 },
 "nbformat": 4,
 "nbformat_minor": 2
}
