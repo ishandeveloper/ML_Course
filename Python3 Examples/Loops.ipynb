{
 "cells": [
  {
   "cell_type": "code",
   "execution_count": 30,
   "metadata": {},
   "outputs": [
    {
     "name": "stdout",
     "output_type": "stream",
     "text": [
      "[4, 7, 10, 13, 16, 19]\n",
      "0 1 2 3 4 5 6 7 8 28\n"
     ]
    }
   ],
   "source": [
    "x=[8,7,6,5,4,3,2,1]\n",
    "sum=0\n",
    "\n",
    "print(list(range(4,20,3)))\n",
    "for i in range (0,9):\n",
    "    print(f'{i}',end=\" \")\n",
    "\n",
    "for j in range(len(x)):\n",
    "    sum=sum+j\n",
    "print(sum)"
   ]
  }
 ],
 "metadata": {
  "kernelspec": {
   "display_name": "Python 3",
   "language": "python",
   "name": "python3"
  },
  "language_info": {
   "codemirror_mode": {
    "name": "ipython",
    "version": 3
   },
   "file_extension": ".py",
   "mimetype": "text/x-python",
   "name": "python",
   "nbconvert_exporter": "python",
   "pygments_lexer": "ipython3",
   "version": "3.7.4"
  }
 },
 "nbformat": 4,
 "nbformat_minor": 2
}
