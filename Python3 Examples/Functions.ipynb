{
 "cells": [
  {
   "cell_type": "code",
   "execution_count": 9,
   "metadata": {},
   "outputs": [
    {
     "name": "stdout",
     "output_type": "stream",
     "text": [
      "{16, 1, 4, 9}\n",
      "[1, 4, 9, 16]\n",
      "[11, 13, 15]\n"
     ]
    }
   ],
   "source": [
    "def findsq(n):\n",
    "  return n*n\n",
    "\n",
    "number=[1,2,3,4]\n",
    "sum=set(map(findsq,number))\n",
    "print(sum)"
   ]
  },
  {
   "cell_type": "code",
   "execution_count": 1,
   "metadata": {},
   "outputs": [
    {
     "name": "stdout",
     "output_type": "stream",
     "text": [
      "Ankitaaaaaaa\n"
     ]
    }
   ],
   "source": [
    "def func1(name):\n",
    "    print(name)\n",
    "    return \n",
    "func1(\"Ankitaaaaaaa\")"
   ]
  },
  {
   "cell_type": "code",
   "execution_count": 10,
   "metadata": {},
   "outputs": [
    {
     "name": "stdout",
     "output_type": "stream",
     "text": [
      "Ishan\n",
      "20\n"
     ]
    }
   ],
   "source": [
    "def func1(name,age):\n",
    "    print(name)\n",
    "    print(age)\n",
    "func1(age=18,name='Ishan')"
   ]
  },
  {
   "cell_type": "code",
   "execution_count": 11,
   "metadata": {},
   "outputs": [
    {
     "name": "stdout",
     "output_type": "stream",
     "text": [
      "Ishan\n",
      "20\n"
     ]
    }
   ],
   "source": [
    "def func1(name,age=20):#default arguments\n",
    "    print(name)\n",
    "    print(age)\n",
    "func1(name='Ishan')"
   ]
  },
  {
   "cell_type": "code",
   "execution_count": 12,
   "metadata": {},
   "outputs": [
    {
     "name": "stdout",
     "output_type": "stream",
     "text": [
      "10\n",
      "40\n",
      "70\n",
      "80\n"
     ]
    }
   ],
   "source": [
    "#Variable Arguments\n",
    "def func1(age,*p):\n",
    "    print(age)\n",
    "    for v in p:\n",
    "        print(v)\n",
    "func1(10,40,70,80)"
   ]
  },
  {
   "cell_type": "code",
   "execution_count": 21,
   "metadata": {},
   "outputs": [
    {
     "name": "stdout",
     "output_type": "stream",
     "text": [
      "[1, 2, 3, [4, 5, 6]]\n",
      "[1, 2, 3, [4, 5, 6]]\n",
      "7\n",
      "[1, 2, 3, [4, 5, 6]]\n"
     ]
    }
   ],
   "source": [
    "#MUTABLE OBJECTS ARE AFFECTED GLOBALLY\n",
    "def func1(mylist):\n",
    "    mylist.append([4,5,6])\n",
    "    print(mylist)\n",
    "def func2(mylist):\n",
    "    mylist=7\n",
    "    print(mylist)\n",
    "mylist=[1,2,3]\n",
    "func1(mylist)\n",
    "print(mylist)\n",
    "func2(mylist)\n",
    "print(mylist)"
   ]
  },
  {
   "cell_type": "code",
   "execution_count": 14,
   "metadata": {},
   "outputs": [
    {
     "name": "stdout",
     "output_type": "stream",
     "text": [
      "After Swapping, Numbers are 20 10\n"
     ]
    }
   ],
   "source": [
    "x=10\n",
    "y=20\n",
    "x,y=y,x\n",
    "print(\"After Swapping, Numbers are\" , x, y)"
   ]
  },
  {
   "cell_type": "code",
   "execution_count": 10,
   "metadata": {},
   "outputs": [
    {
     "name": "stdout",
     "output_type": "stream",
     "text": [
      "[11, 13, 15]\n"
     ]
    }
   ],
   "source": [
    "numbers1=[4,5,6]\n",
    "numbers2=[7,8,9]\n",
    "\n",
    "number=list(map(lambda n,m:m+n,numbers1,numbers2))\n",
    "\n",
    "print(number)"
   ]
  },
  {
   "cell_type": "code",
   "execution_count": 11,
   "metadata": {},
   "outputs": [
    {
     "name": "stdout",
     "output_type": "stream",
     "text": [
      "[1, 4, 9, 16]\n"
     ]
    }
   ],
   "source": [
    "number=[1,2,3,4]\n",
    "squares=list(map(lambda n:n*n,number))\n",
    "print(squares)\n"
   ]
  }
 ],
 "metadata": {
  "kernelspec": {
   "display_name": "Python 3",
   "language": "python",
   "name": "python3"
  },
  "language_info": {
   "codemirror_mode": {
    "name": "ipython",
    "version": 3
   },
   "file_extension": ".py",
   "mimetype": "text/x-python",
   "name": "python",
   "nbconvert_exporter": "python",
   "pygments_lexer": "ipython3",
   "version": "3.7.4"
  }
 },
 "nbformat": 4,
 "nbformat_minor": 2
}
