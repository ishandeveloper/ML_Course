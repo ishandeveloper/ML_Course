{
 "cells": [
  {
   "cell_type": "code",
   "execution_count": 29,
   "metadata": {},
   "outputs": [
    {
     "name": "stdout",
     "output_type": "stream",
     "text": [
      "['abc', 'def', 'ghi', 'ishan']\n",
      "def\n",
      "4\n",
      "['abc', 'def', 'ghi', 'ishan', 'jkl']\n",
      "['abc', 'def', 'ishan', 'ghi', 'ishan', 'jkl']\n",
      "['abc', 'ishan', 'ghi', 'ishan', 'jkl']\n",
      "['abc', 'ishan', 'ishan', 'jkl']\n",
      "['abc', 'ishan', 'ishan']\n",
      "2\n",
      "['abc', 'ishan', 'ishan']\n",
      "['ishan', 'ishan', 'abc']\n",
      "['ishan', 'ishan', 'abc']\n",
      "['ishan', 'ishan', 'abc']\n",
      "['ishan', 'ishan', 'abc', 'ishan', 'ishan', 'abc']\n",
      "['ishan', 'ishan', 'abc', 'ishan', 'ishan', 'abc', 'ishan', 'ishan', 'abc']\n"
     ]
    }
   ],
   "source": [
    "mylist=['abc','def','ghi', 'ishan']\n",
    "\n",
    "print(mylist)\n",
    "\n",
    "print(mylist[1])\n",
    "\n",
    "print(len(mylist))\n",
    "\n",
    "mylist.append('jkl')\n",
    "\n",
    "print(mylist)\n",
    "\n",
    "mylist.insert(2,'ishan')\n",
    "\n",
    "print(mylist)\n",
    "\n",
    "del mylist[1]\n",
    "\n",
    "print(mylist)\n",
    "\n",
    "mylist.remove('ghi')\n",
    "\n",
    "print(mylist)\n",
    "\n",
    "mylist.pop()\n",
    "\n",
    "print(mylist)\n",
    "\n",
    "print(mylist.count('ishan'))\n",
    "\n",
    "print(mylist)\n",
    "\n",
    "mylist.reverse()\n",
    "\n",
    "print(mylist)\n",
    "\n",
    "secondList=mylist.copy()\n",
    "\n",
    "anotherlist=list(mylist)\n",
    "\n",
    "print(secondList)\n",
    "\n",
    "print(anotherlist)\n",
    "\n",
    "mylist=secondList+anotherlist\n",
    "\n",
    "print(mylist)\n",
    "\n",
    "mylist.extend(secondList)\n",
    "\n",
    "print(mylist)"
   ]
  },
  {
   "cell_type": "code",
   "execution_count": 4,
   "metadata": {},
   "outputs": [
    {
     "name": "stdout",
     "output_type": "stream",
     "text": [
      "1\n",
      "4\n",
      "1 4\n"
     ]
    }
   ],
   "source": [
    "#MAX AND MIN  ELEMENT IN A LIST\n",
    "lista=[1,2,3,4]\n",
    "maximum=0\n",
    "minimum=99\n",
    "print(min(lista))\n",
    "print(max(lista))\n",
    "\n",
    "\n",
    "for i in range(0,len(lista)):\n",
    "    if(maximum<lista[i]):\n",
    "        maximum=lista[i]\n",
    "    if(minimum>lista[i]):\n",
    "        minimum=lista[i]\n",
    "        \n",
    "print(minimum,maximum)"
   ]
  },
  {
   "cell_type": "code",
   "execution_count": 3,
   "metadata": {},
   "outputs": [
    {
     "name": "stdout",
     "output_type": "stream",
     "text": [
      "enter a : 5\n",
      "enter b : 8\n",
      "13\n"
     ]
    }
   ],
   "source": [
    "a=int(input('enter a : '))\n",
    "b=int(input('enter b : '))\n",
    "\n",
    "print(a+b)"
   ]
  }
 ],
 "metadata": {
  "kernelspec": {
   "display_name": "Python 3",
   "language": "python",
   "name": "python3"
  },
  "language_info": {
   "codemirror_mode": {
    "name": "ipython",
    "version": 3
   },
   "file_extension": ".py",
   "mimetype": "text/x-python",
   "name": "python",
   "nbconvert_exporter": "python",
   "pygments_lexer": "ipython3",
   "version": "3.7.4"
  }
 },
 "nbformat": 4,
 "nbformat_minor": 2
}
