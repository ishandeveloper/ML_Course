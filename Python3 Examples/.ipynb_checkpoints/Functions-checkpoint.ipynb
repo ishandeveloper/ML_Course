{
 "cells": [
  {
   "cell_type": "code",
   "execution_count": 9,
   "metadata": {},
   "outputs": [
    {
     "name": "stdout",
     "output_type": "stream",
     "text": [
      "{16, 1, 4, 9}\n",
      "[1, 4, 9, 16]\n",
      "[11, 13, 15]\n"
     ]
    }
   ],
   "source": [
    "def findsq(n):\n",
    "  return n*n\n",
    "\n",
    "number=[1,2,3,4]\n",
    "sum=set(map(findsq,number))\n",
    "print(sum)"
   ]
  },
  {
   "cell_type": "code",
   "execution_count": null,
   "metadata": {},
   "outputs": [],
   "source": [
    "numbers1=[4,5,6]\n",
    "numbers2=[7,8,9]\n",
    "\n",
    "number=list(map(lambda n,m:m+n,numbers1,numbers2))\n",
    "\n",
    "print(number)"
   ]
  },
  {
   "cell_type": "code",
   "execution_count": null,
   "metadata": {},
   "outputs": [],
   "source": [
    "number=[1,2,3,4]\n",
    "squares=list(map(lambda n:n*n,number))\n",
    "print(squares)\n"
   ]
  }
 ],
 "metadata": {
  "kernelspec": {
   "display_name": "Python 3",
   "language": "python",
   "name": "python3"
  },
  "language_info": {
   "codemirror_mode": {
    "name": "ipython",
    "version": 3
   },
   "file_extension": ".py",
   "mimetype": "text/x-python",
   "name": "python",
   "nbconvert_exporter": "python",
   "pygments_lexer": "ipython3",
   "version": "3.7.4"
  }
 },
 "nbformat": 4,
 "nbformat_minor": 2
}
